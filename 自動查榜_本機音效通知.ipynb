{
 "cells": [
  {
   "cell_type": "code",
   "execution_count": 1,
   "metadata": {},
   "outputs": [
    {
     "ename": "KeyboardInterrupt",
     "evalue": "",
     "output_type": "error",
     "traceback": [
      "\u001b[1;31m---------------------------------------------------------------------------\u001b[0m",
      "\u001b[1;31mKeyboardInterrupt\u001b[0m                         Traceback (most recent call last)",
      "\u001b[1;32m<ipython-input-1-452c1352a8f7>\u001b[0m in \u001b[0;36m<module>\u001b[1;34m\u001b[0m\n\u001b[0;32m     12\u001b[0m     \u001b[0mtitle\u001b[0m \u001b[1;33m=\u001b[0m \u001b[0msoup\u001b[0m\u001b[1;33m.\u001b[0m\u001b[0mfind\u001b[0m\u001b[1;33m(\u001b[0m\u001b[1;34m'a'\u001b[0m\u001b[1;33m,\u001b[0m \u001b[0mtext\u001b[0m\u001b[1;33m=\u001b[0m\u001b[1;34m'113碩士班招生第2梯次錄取名單'\u001b[0m\u001b[1;33m)\u001b[0m\u001b[1;33m\u001b[0m\u001b[1;33m\u001b[0m\u001b[0m\n\u001b[0;32m     13\u001b[0m     \u001b[1;32mif\u001b[0m \u001b[0mtitle\u001b[0m \u001b[1;33m==\u001b[0m \u001b[1;32mNone\u001b[0m\u001b[1;33m:\u001b[0m\u001b[1;33m\u001b[0m\u001b[1;33m\u001b[0m\u001b[0m\n\u001b[1;32m---> 14\u001b[1;33m         \u001b[0mtime\u001b[0m\u001b[1;33m.\u001b[0m\u001b[0msleep\u001b[0m\u001b[1;33m(\u001b[0m\u001b[1;36m10\u001b[0m\u001b[1;33m)\u001b[0m\u001b[1;33m\u001b[0m\u001b[1;33m\u001b[0m\u001b[0m\n\u001b[0m\u001b[0;32m     15\u001b[0m     \u001b[1;32melse\u001b[0m\u001b[1;33m:\u001b[0m\u001b[1;33m\u001b[0m\u001b[1;33m\u001b[0m\u001b[0m\n\u001b[0;32m     16\u001b[0m         \u001b[1;32mbreak\u001b[0m\u001b[1;33m\u001b[0m\u001b[1;33m\u001b[0m\u001b[0m\n",
      "\u001b[1;31mKeyboardInterrupt\u001b[0m: "
     ]
    }
   ],
   "source": [
    "import requests\n",
    "from bs4 import BeautifulSoup\n",
    "import time\n",
    "import certifi\n",
    "\n",
    "headers = {'User-Agent': 'User-Agent: Mozilla/5.0 (Windows NT 10.0; Win64; x64) AppleWebKit/537.36 (KHTML, like Gecko) Chrome/91.0.4472.124 Safari/537.36'}\n",
    "\n",
    "title = None\n",
    "while title == None:\n",
    "    response = requests.get(\"https://www.aca.ntu.edu.tw/w/aca/LocalAdmissionClass_21072014071675661\", headers=headers)\n",
    "    soup = BeautifulSoup(response.text, \"html.parser\")\n",
    "    title = soup.find('a', text='113碩士班招生第2梯次錄取名單')\n",
    "    if title == None:\n",
    "        time.sleep(10)\n",
    "    else:\n",
    "        break\n",
    "\n",
    "url = title[\"href\"]        "
   ]
  },
  {
   "cell_type": "code",
   "execution_count": null,
   "metadata": {},
   "outputs": [],
   "source": [
    "import os\n",
    "\n",
    "# 指定資料夾\n",
    "folder_path = \"/Users/RYAN/OneDrive/桌面/Python/自練\"\n",
    "\n",
    "# 下載連結內容\n",
    "response = requests.get(url)\n",
    "\n",
    "# 初始文件名\n",
    "filename = os.path.basename(url)\n",
    "\n",
    "# 将檔案存到資料夾中\n",
    "with open(os.path.join(folder_path, '榜單.pdf'), \"wb\") as file:\n",
    "    file.write(response.content)"
   ]
  },
  {
   "cell_type": "markdown",
   "metadata": {},
   "source": [
    "# 讀取已下載之PDF"
   ]
  },
  {
   "cell_type": "code",
   "execution_count": null,
   "metadata": {},
   "outputs": [],
   "source": [
    "from PyPDF2 import PdfReader\n",
    "a = ''\n",
    "# 打開PDF文件\n",
    "with open('榜單.pdf', 'rb') as file:\n",
    "    # 使用PdfReader讀取文件\n",
    "    pdf = PdfReader(file)\n",
    "\n",
    "    # PDF頁數\n",
    "    num_pages = len(pdf.pages)\n",
    "\n",
    "    # 將內文轉到python，並以字串存著\n",
    "    for page in pdf.pages:\n",
    "        a += page.extract_text()"
   ]
  },
  {
   "cell_type": "code",
   "execution_count": null,
   "metadata": {},
   "outputs": [],
   "source": [
    "a"
   ]
  },
  {
   "cell_type": "code",
   "execution_count": null,
   "metadata": {},
   "outputs": [],
   "source": [
    "index = a.find(\"202150067\")\n",
    "a[5624]"
   ]
  },
  {
   "cell_type": "code",
   "execution_count": null,
   "metadata": {},
   "outputs": [],
   "source": [
    "import pygame\n",
    "\n",
    "pygame.init()\n",
    "\n",
    "# 指定声音文件路径\n",
    "sound_file1 = \"C:/Users/RYAN/OneDrive/桌面/Python/自練/樓層抵達提示音.mp3\"\n",
    "sound_file2 = \"C:/Users/RYAN/OneDrive/桌面/Python/自練/破音鐵達尼.mp3\"\n",
    "\n",
    "# 设置声音音量\n",
    "volume = 1"
   ]
  },
  {
   "cell_type": "code",
   "execution_count": null,
   "metadata": {},
   "outputs": [],
   "source": [
    "import re\n",
    "\n",
    "matches = re.findall(r'陳○榮\\s+正取', a)\n",
    "print(matches)\n",
    "\n",
    "if matches != []:\n",
    "    p = '  結果是：錄取!!'\n",
    "    # 設定音效及音量，並放出\n",
    "    sound = pygame.mixer.Sound(sound_file1)\n",
    "    sound.set_volume(volume)\n",
    "    sound.play()\n",
    "else:\n",
    "    p = '  結果是：人工查榜一下...'\n",
    "    # 設定音效及音量，並放出\n",
    "    sound = pygame.mixer.Sound(sound_file2)\n",
    "    sound.set_volume(volume)\n",
    "    sound.play()\n",
    "    \n",
    "import tkinter as tk\n",
    "\n",
    "# 創建一個新的 Tkinter 視窗\n",
    "root = tk.Tk()\n",
    "\n",
    "# 設置視窗的大小和位置\n",
    "root.geometry(\"300x150+50+50\")\n",
    "\n",
    "# 創建一個視窗，顯示訊息\n",
    "label = tk.Label(root, text= p)\n",
    "label.pack()\n",
    "\n",
    "# 呼叫視窗\n",
    "root.mainloop()"
   ]
  },
  {
   "cell_type": "code",
   "execution_count": null,
   "metadata": {},
   "outputs": [],
   "source": []
  },
  {
   "cell_type": "code",
   "execution_count": null,
   "metadata": {},
   "outputs": [],
   "source": []
  },
  {
   "cell_type": "code",
   "execution_count": null,
   "metadata": {},
   "outputs": [],
   "source": []
  },
  {
   "cell_type": "code",
   "execution_count": null,
   "metadata": {},
   "outputs": [],
   "source": []
  },
  {
   "cell_type": "code",
   "execution_count": null,
   "metadata": {},
   "outputs": [],
   "source": []
  },
  {
   "cell_type": "code",
   "execution_count": null,
   "metadata": {},
   "outputs": [],
   "source": []
  },
  {
   "cell_type": "code",
   "execution_count": null,
   "metadata": {},
   "outputs": [],
   "source": []
  },
  {
   "cell_type": "code",
   "execution_count": null,
   "metadata": {},
   "outputs": [],
   "source": []
  },
  {
   "cell_type": "code",
   "execution_count": null,
   "metadata": {},
   "outputs": [],
   "source": []
  }
 ],
 "metadata": {
  "kernelspec": {
   "display_name": "Python 3",
   "language": "python",
   "name": "python3"
  },
  "language_info": {
   "codemirror_mode": {
    "name": "ipython",
    "version": 3
   },
   "file_extension": ".py",
   "mimetype": "text/x-python",
   "name": "python",
   "nbconvert_exporter": "python",
   "pygments_lexer": "ipython3",
   "version": "3.8.3"
  }
 },
 "nbformat": 4,
 "nbformat_minor": 4
}
